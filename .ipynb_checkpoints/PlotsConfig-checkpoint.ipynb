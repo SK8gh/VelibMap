{
 "cells": [
  {
   "cell_type": "code",
   "execution_count": 11,
   "id": "9da1c8c8",
   "metadata": {},
   "outputs": [],
   "source": [
    "# Defining constants used in the data visualization Notebook in this file\n",
    "\n",
    "# Old and new points used to transform coordinates\n",
    "old_points = [[48.834861, 2.344577], [48.865316, 2.376115], [48.857331, 2.351458], [48.846454, 2.415514]]\n",
    "new_points = [[692, 568], [878, 290], [730, 365], [1114, 458]]\n",
    "\n",
    "# Bounds defineing the box we're plotting\n",
    "bounds = {'LAT': (0, 1200),\n",
    "          'LON': (0, 700)}\n",
    "\n",
    "main_path = f\"/Users/miller/VelibMap/\"\n",
    "\n",
    "figsize = 20\n",
    "\n",
    "map_opacity = 0.5\n",
    "\n",
    "img_path = main_path + 'ParisMap.png'"
   ]
  },
  {
   "cell_type": "code",
   "execution_count": null,
   "id": "1b068a43",
   "metadata": {},
   "outputs": [],
   "source": []
  }
 ],
 "metadata": {
  "kernelspec": {
   "display_name": "Python 3 (ipykernel)",
   "language": "python",
   "name": "python3"
  },
  "language_info": {
   "codemirror_mode": {
    "name": "ipython",
    "version": 3
   },
   "file_extension": ".py",
   "mimetype": "text/x-python",
   "name": "python",
   "nbconvert_exporter": "python",
   "pygments_lexer": "ipython3",
   "version": "3.9.7"
  }
 },
 "nbformat": 4,
 "nbformat_minor": 5
}
